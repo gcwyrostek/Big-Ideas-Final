{
 "cells": [
  {
   "cell_type": "code",
   "execution_count": 19,
   "metadata": {},
   "outputs": [
    {
     "name": "stdout",
     "output_type": "stream",
     "text": [
      "Everything is set up.\n"
     ]
    }
   ],
   "source": [
    "import pandas as pd\n",
    "import fpsnippets as fp\n",
    "import numpy as np\n",
    "import geopandas as gp\n",
    "%matplotlib inline\n",
    "import matplotlib.pyplot as plt\n",
    "\n",
    "# Importing dataset\n",
    "fire = pd.read_csv(\"fire incidents.csv\", sep=\",\", low_memory=False)\n",
    "nbhInfo = pd.read_csv(\"neighborhoods.csv\", sep=\",\", low_memory=False)\n",
    "\n",
    "# gets neighborhoods in column of 'fire incidents'\n",
    "neighborhoods_in_fire = fire['neighborhood'].unique()\n",
    "\n",
    "# Filter rows in 'nbhInfo' where the hood is not in 'neighborhoods_in_fire'\n",
    "nbhInfo_filtered = nbhInfo[nbhInfo['hood'].isin(neighborhoods_in_fire)]\n",
    "\n",
    "# Update 'nbhInfo' to contain only the rows with neighborhoods present in 'fire incidents'\n",
    "nbhInfo = nbhInfo_filtered\n",
    "\n",
    "# Dictionaries for fire incident count and squaremilage of each neighborhood\n",
    "fireCount = dict()\n",
    "squareMiles = dict()\n",
    "\n",
    "# Here I am counting the fire incidents per neighborhood\n",
    "fire_counts_per_neighborhood = fire['neighborhood'].value_counts().to_dict()\n",
    "\n",
    "# updating the fire count dictionary\n",
    "fireCount.update(fire_counts_per_neighborhood)\n",
    "\n",
    "#square miles per neighborhoood\n",
    "for index, row in nbhInfo.iterrows():\n",
    "        squareMiles[row['hood']] = row['sqmiles']\n",
    "\n",
    "#Making sure it all works\n",
    "print(\"Everything is set up.\")\n"
   ]
  },
  {
   "cell_type": "code",
   "execution_count": 21,
   "metadata": {},
   "outputs": [
    {
     "data": {
      "text/plain": [
       "array([<matplotlib.axes._subplots.AxesSubplot object at 0x7f212b95f2b0>,\n",
       "       <matplotlib.axes._subplots.AxesSubplot object at 0x7f212b91b610>,\n",
       "       <matplotlib.axes._subplots.AxesSubplot object at 0x7f212b8b9880>,\n",
       "       <matplotlib.axes._subplots.AxesSubplot object at 0x7f212b8e4a00>],\n",
       "      dtype=object)"
      ]
     },
     "execution_count": 21,
     "metadata": {},
     "output_type": "execute_result"
    }
   ],
   "source": [
    "#Adjusting font size like my group member did\n",
    "plt.rcParams.update({'font.size': 50})\n",
    "\n",
    "#The final dataframe\n",
    "incidents = pd.Series(fireCount).sort_values(ascending=False).to_frame()\n",
    "\n",
    "#Columns for each data\n",
    "incidents.columns =['Amount of Fire Incidents']\n",
    "incidents['Square Miles'] = ''\n",
    "incidents['Ratio'] = ''\n",
    "incidents['Rating'] = ''\n",
    "\n",
    "#Neigborhood names to lowercase for consistency\n",
    "incidents.index = incidents.index.str.lower()\n",
    "squareMiles = {key.lower(): value for key, value in squareMiles.items()}\n",
    "\n",
    "\n",
    "for index, row in incidents.iterrows():\n",
    "    # Retrieve the square miles for the neighborhood (case-insensitive)\n",
    "    square_miles = squareMiles.get(index, 0.0)\n",
    "    \n",
    "    # Determine the ratio by (amount of fire incidents / square miles)\n",
    "    if square_miles != 0.0:\n",
    "        ratio = row['Amount of Fire Incidents'] / float(square_miles)\n",
    "    else:\n",
    "        # Handle the case where square_miles is zero (set ratio to a default value)\n",
    "        ratio = 0.0\n",
    "    #same tier system as others\n",
    "    if ratio>100:\n",
    "        rate = 1\n",
    "    elif (ratio>50):\n",
    "        rate = 2\n",
    "    elif (ratio>10):\n",
    "        rate = 3\n",
    "    else:\n",
    "        rate = 4\n",
    "        \n",
    "    \n",
    "    #fills the rest of the dataset\n",
    "    incidents.at[index,'Rating'] = rate\n",
    "    incidents.at[index,'Square Miles'] = squareMiles.get(index,0.0)\n",
    "    incidents.at[index,'Ratio'] = ratio\n",
    "\n",
    "#same way data is displayed by groupmates.\n",
    "incidents.sort_values(by=['Ratio'], ascending=False).plot.bar(figsize=(100,100), subplots=True)"
   ]
  },
  {
   "cell_type": "code",
   "execution_count": null,
   "metadata": {},
   "outputs": [],
   "source": []
  },
  {
   "cell_type": "code",
   "execution_count": null,
   "metadata": {},
   "outputs": [],
   "source": []
  }
 ],
 "metadata": {
  "kernelspec": {
   "display_name": "Python 3",
   "language": "python",
   "name": "python3"
  },
  "language_info": {
   "codemirror_mode": {
    "name": "ipython",
    "version": 3
   },
   "file_extension": ".py",
   "mimetype": "text/x-python",
   "name": "python",
   "nbconvert_exporter": "python",
   "pygments_lexer": "ipython3",
   "version": "3.8.3"
  }
 },
 "nbformat": 4,
 "nbformat_minor": 4
}
