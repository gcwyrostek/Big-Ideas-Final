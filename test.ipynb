{
 "cells": [
  {
   "cell_type": "code",
   "execution_count": 60,
   "metadata": {},
   "outputs": [],
   "source": [
    "import pandas as pd\n",
    "import fpsnippets as fp\n",
    "import numpy as np\n",
    "%matplotlib inline\n",
    "import matplotlib.pyplot as plt\n",
    "\n",
    "#This was maninly just me messing with the data sets\n",
    "arrests = pd.read_csv(\"arrests.csv\", sep=\",\", low_memory=False)\n",
    "fire = pd.read_csv(\"fire incidents.csv\", sep=\",\", low_memory=False)\n",
    "\n",
    "#print(arrests['INCIDENTNEIGHBORHOOD'].unique())\n",
    "#print(fire['neighborhood'].unique())\n",
    "\n",
    "orderName = dict()\n",
    "for index, row in fire.iterrows():\n",
    "    itemName = row['neighborhood']\n",
    "    if not(itemName in orderName):\n",
    "        orderName[itemName] = int(0)\n",
    "    orderName[itemName] += 1\n",
    "\n",
    "print(orderName)"
   ]
  },
  {
   "cell_type": "code",
   "execution_count": null,
   "metadata": {},
   "outputs": [],
   "source": []
  }
 ],
 "metadata": {
  "kernelspec": {
   "display_name": "Python 3",
   "language": "python",
   "name": "python3"
  },
  "language_info": {
   "codemirror_mode": {
    "name": "ipython",
    "version": 3
   },
   "file_extension": ".py",
   "mimetype": "text/x-python",
   "name": "python",
   "nbconvert_exporter": "python",
   "pygments_lexer": "ipython3",
   "version": "3.8.3"
  }
 },
 "nbformat": 4,
 "nbformat_minor": 4
}
